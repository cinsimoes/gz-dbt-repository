{
  "cells": [
    {
      "cell_type": "markdown",
      "metadata": {
        "id": "view-in-github",
        "colab_type": "text"
      },
      "source": [
        "<a href=\"https://colab.research.google.com/github/cinsimoes/gz-dbt-repository/blob/main/Recall_Python_Basics_Challenge.ipynb\" target=\"_parent\"><img src=\"https://colab.research.google.com/assets/colab-badge.svg\" alt=\"Open In Colab\"/></a>"
      ]
    },
    {
      "cell_type": "markdown",
      "metadata": {
        "id": "fhlLb9BKgfgp"
      },
      "source": [
        " ![Emil](data:image/png;base64,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)"
      ]
    },
    {
      "cell_type": "markdown",
      "metadata": {
        "id": "b8BkIRvbgfgq"
      },
      "source": [
        "# Recall Python Basics"
      ]
    },
    {
      "cell_type": "markdown",
      "metadata": {
        "id": "MocDAs97Va87"
      },
      "source": [
        "Before you start, Google Colab is going to be your friend for the next few days, so you'd better start to get familiar with it! \\\n",
        "Here you'll find **tutorials and tips** for getting started on Google Colab. Don't worry, Colab is renowned for being user-friendly! 🤗\n",
        "\n",
        "[Tutorials & Tips 🔗](https://lewagon.notion.site/Get-Started-with-Google-Colaboratory-916b255b21fa495baa58b654c90f7f86)\n"
      ]
    },
    {
      "cell_type": "markdown",
      "source": [],
      "metadata": {
        "id": "njALhST7Ep0-"
      }
    },
    {
      "cell_type": "markdown",
      "metadata": {
        "id": "uLh5qevGgfgt"
      },
      "source": [
        "## Basic initialisations"
      ]
    },
    {
      "cell_type": "markdown",
      "metadata": {
        "id": "puantXVYgfgu"
      },
      "source": [
        "Initialise two variables `a` and `b`, respectively equal to `5` and `20`\n"
      ]
    },
    {
      "cell_type": "code",
      "execution_count": null,
      "metadata": {
        "ExecuteTime": {
          "end_time": "2024-02-13T10:51:21.719837Z",
          "start_time": "2024-02-13T10:51:21.712995Z"
        },
        "id": "sF4QvrE3gfgv"
      },
      "outputs": [],
      "source": [
        "a = 5\n",
        "b = 20"
      ]
    },
    {
      "cell_type": "markdown",
      "metadata": {
        "id": "IX3l0HbFgfgz"
      },
      "source": [
        "Display the value of `a`\n"
      ]
    },
    {
      "cell_type": "code",
      "execution_count": null,
      "metadata": {
        "ExecuteTime": {
          "end_time": "2024-02-13T10:51:26.692242Z",
          "start_time": "2024-02-13T10:51:26.669873Z"
        },
        "id": "uhr5YhUqgfg0",
        "colab": {
          "base_uri": "https://localhost:8080/"
        },
        "outputId": "f93095b1-6c15-4179-e25a-81777e95caf6"
      },
      "outputs": [
        {
          "output_type": "stream",
          "name": "stdout",
          "text": [
            "5\n"
          ]
        }
      ],
      "source": [
        "print(a)"
      ]
    },
    {
      "cell_type": "markdown",
      "metadata": {
        "id": "1umKra8tgfg3"
      },
      "source": [
        "Change the value of `a` to 7\n",
        "\n"
      ]
    },
    {
      "cell_type": "code",
      "execution_count": null,
      "metadata": {
        "ExecuteTime": {
          "end_time": "2024-02-13T10:51:31.105063Z",
          "start_time": "2024-02-13T10:51:31.098963Z"
        },
        "id": "8SUVSVJvgfg3"
      },
      "outputs": [],
      "source": [
        "a = 7"
      ]
    },
    {
      "cell_type": "markdown",
      "metadata": {
        "id": "OuNWNUDxgfg5"
      },
      "source": [
        "Display the new value of `a`\n"
      ]
    },
    {
      "cell_type": "code",
      "execution_count": null,
      "metadata": {
        "ExecuteTime": {
          "end_time": "2024-02-13T10:54:00.232236Z",
          "start_time": "2024-02-13T10:54:00.226011Z"
        },
        "id": "VURDnYTEgfg6",
        "colab": {
          "base_uri": "https://localhost:8080/"
        },
        "outputId": "562ea822-f719-4fcb-b484-bd912b8ce448"
      },
      "outputs": [
        {
          "output_type": "stream",
          "name": "stdout",
          "text": [
            "7\n"
          ]
        }
      ],
      "source": [
        "print(a)"
      ]
    },
    {
      "cell_type": "markdown",
      "metadata": {
        "id": "OArRQEQAgfg9"
      },
      "source": [
        "Create a new variable `d` equal to the product of variables `a` and `b`. What is the type of `d`?\n",
        "\n"
      ]
    },
    {
      "cell_type": "code",
      "execution_count": null,
      "metadata": {
        "ExecuteTime": {
          "end_time": "2024-02-13T10:54:29.960100Z",
          "start_time": "2024-02-13T10:54:29.952348Z"
        },
        "id": "mPlfd9pygfg9"
      },
      "outputs": [],
      "source": [
        "d = (a * b)"
      ]
    },
    {
      "cell_type": "code",
      "source": [
        "print(d)"
      ],
      "metadata": {
        "colab": {
          "base_uri": "https://localhost:8080/"
        },
        "id": "FaPkI0vEiLfr",
        "outputId": "f477379c-2feb-47af-de6e-6914c6992d47"
      },
      "execution_count": null,
      "outputs": [
        {
          "output_type": "stream",
          "name": "stdout",
          "text": [
            "140\n"
          ]
        }
      ]
    },
    {
      "cell_type": "markdown",
      "metadata": {
        "id": "rK5fjaH-L1aI"
      },
      "source": [
        "We want to switch values between `a` and `b`. How can we proceed ?\n",
        "\n",
        "\n",
        "<details>\n",
        "    <summary>Hint 💡</summary>\n",
        "    \n",
        "Think of introducing new elements...\n",
        "</details>"
      ]
    },
    {
      "cell_type": "code",
      "execution_count": null,
      "metadata": {
        "ExecuteTime": {
          "end_time": "2024-02-13T11:14:15.078796Z",
          "start_time": "2024-02-13T11:14:15.068195Z"
        },
        "id": "2vn3T7vnL0vV",
        "colab": {
          "base_uri": "https://localhost:8080/"
        },
        "outputId": "276a234f-3956-421c-8903-5c515e88ce55"
      },
      "outputs": [
        {
          "output_type": "stream",
          "name": "stdout",
          "text": [
            "a: 7, b: 20\n"
          ]
        }
      ],
      "source": [
        "print(f\"a: {a}, b: {b}\")"
      ]
    },
    {
      "cell_type": "code",
      "source": [
        "a, b = b, a"
      ],
      "metadata": {
        "id": "5Dxbwr-RltvW"
      },
      "execution_count": null,
      "outputs": []
    },
    {
      "cell_type": "code",
      "source": [
        "print(a)"
      ],
      "metadata": {
        "colab": {
          "base_uri": "https://localhost:8080/"
        },
        "id": "NVp434Lwlx4Q",
        "outputId": "450c1570-4a51-4779-f2ed-896ef95b56e2"
      },
      "execution_count": null,
      "outputs": [
        {
          "output_type": "stream",
          "name": "stdout",
          "text": [
            "20\n"
          ]
        }
      ]
    },
    {
      "cell_type": "markdown",
      "metadata": {
        "id": "9HkYCn8-gfhK"
      },
      "source": [
        "## Create conditions\n"
      ]
    },
    {
      "cell_type": "markdown",
      "metadata": {
        "id": "3CA4tS8xgfhK"
      },
      "source": [
        "Create a new variable `e` equal to 20 and create a condition that will display `\"strictly greater than 5\"` if this variable is indeed strictly greater than 5.\n",
        "\n",
        "\n",
        "💡 Have a look at the lecture to see how to properly write a condition in Python.\n"
      ]
    },
    {
      "cell_type": "code",
      "execution_count": null,
      "metadata": {
        "ExecuteTime": {
          "end_time": "2024-02-13T11:51:31.540380Z",
          "start_time": "2024-02-13T11:51:31.530506Z"
        },
        "id": "1aZVTunYgfhL"
      },
      "outputs": [],
      "source": [
        "e = 20"
      ]
    },
    {
      "cell_type": "code",
      "source": [
        "if e > 5:\n",
        "  print(\"strictly greater than 5\")"
      ],
      "metadata": {
        "colab": {
          "base_uri": "https://localhost:8080/"
        },
        "id": "Ihkn9cJpmGRN",
        "outputId": "7a870664-ef95-40e2-ba73-33337ece1283"
      },
      "execution_count": null,
      "outputs": [
        {
          "output_type": "stream",
          "name": "stdout",
          "text": [
            "strictly greater than 5\n"
          ]
        }
      ]
    },
    {
      "cell_type": "markdown",
      "metadata": {
        "id": "F5D575_UgfhN"
      },
      "source": [
        "Complete the previous code to display `\"less than or equal to 5\"` if the variable is not greater than 5.\n",
        "\n",
        "\n",
        "Try to assign different values to the variable `e`and test your code with those new values.\n"
      ]
    },
    {
      "cell_type": "code",
      "execution_count": null,
      "metadata": {
        "ExecuteTime": {
          "end_time": "2024-02-13T11:52:36.260347Z",
          "start_time": "2024-02-13T11:52:36.246644Z"
        },
        "id": "ewKuD1GegfhN",
        "colab": {
          "base_uri": "https://localhost:8080/"
        },
        "outputId": "a0a63589-6d45-4765-caf1-5d9469ba4cfc"
      },
      "outputs": [
        {
          "output_type": "stream",
          "name": "stdout",
          "text": [
            "strictly greater than 5\n"
          ]
        }
      ],
      "source": [
        "if e > 5:\n",
        "  print(\"strictly greater than 5\")\n",
        "\n",
        "elif e <= 5:\n",
        "  print(\"less than or equal to 5\")"
      ]
    },
    {
      "cell_type": "markdown",
      "metadata": {
        "id": "3IcJv8ZugfhQ"
      },
      "source": [
        "Complete the previous code to display `\"equal to 5\"` if e is equal to 5.\n",
        "\n",
        "Test your code on several values of `e`.\n",
        "\n",
        "<details>\n",
        "    <summary>Hint 💡</summary>\n",
        "    \n",
        "    \n",
        "`elif`\n",
        "</details>"
      ]
    },
    {
      "cell_type": "code",
      "execution_count": null,
      "metadata": {
        "ExecuteTime": {
          "end_time": "2024-02-13T11:53:43.367835Z",
          "start_time": "2024-02-13T11:53:43.349599Z"
        },
        "id": "TEFg-9cQgfhQ",
        "colab": {
          "base_uri": "https://localhost:8080/"
        },
        "outputId": "f07d5450-cd8b-446d-f869-9d9c786501de"
      },
      "outputs": [
        {
          "output_type": "stream",
          "name": "stdout",
          "text": [
            "strictly greater than 5\n"
          ]
        }
      ],
      "source": [
        "if e > 5:\n",
        "  print(\"strictly greater than 5\")\n",
        "\n",
        "elif e < 5:\n",
        "  print(\"less than or equal to 5\")\n",
        "\n",
        "else:\n",
        "  print(\"equal to 5\")"
      ]
    },
    {
      "cell_type": "code",
      "source": [
        "e = 0"
      ],
      "metadata": {
        "id": "RTjwDUDln3bv"
      },
      "execution_count": null,
      "outputs": []
    },
    {
      "cell_type": "code",
      "source": [
        "if e > 5:\n",
        "  print(\"strictly greater than 5\")\n",
        "\n",
        "elif e < 5:\n",
        "  print(\"less than or equal to 5\")\n",
        "\n",
        "else:\n",
        "  print(\"equal to 5\")"
      ],
      "metadata": {
        "colab": {
          "base_uri": "https://localhost:8080/"
        },
        "id": "NR4SAWRsoHzH",
        "outputId": "65b3e559-d31c-4756-cdc8-2a999ce10602"
      },
      "execution_count": null,
      "outputs": [
        {
          "output_type": "stream",
          "name": "stdout",
          "text": [
            "less than or equal to 5\n"
          ]
        }
      ]
    },
    {
      "cell_type": "code",
      "source": [
        "e = 5"
      ],
      "metadata": {
        "id": "jEvzGsA1oLMd"
      },
      "execution_count": null,
      "outputs": []
    },
    {
      "cell_type": "code",
      "source": [
        "if e > 5:\n",
        "  print(\"strictly greater than 5\")\n",
        "\n",
        "elif e < 5:\n",
        "  print(\"less than or equal to 5\")\n",
        "\n",
        "else:\n",
        "  print(\"equal to 5\")"
      ],
      "metadata": {
        "colab": {
          "base_uri": "https://localhost:8080/"
        },
        "id": "aikXUitToNJd",
        "outputId": "5094aa4c-b2fb-490d-c274-54864b74c0b8"
      },
      "execution_count": null,
      "outputs": [
        {
          "output_type": "stream",
          "name": "stdout",
          "text": [
            "equal to 5\n"
          ]
        }
      ]
    },
    {
      "cell_type": "markdown",
      "metadata": {
        "id": "0uUn8_engfhV"
      },
      "source": [
        "## Lists\n"
      ]
    },
    {
      "cell_type": "markdown",
      "metadata": {
        "id": "05Cny4N0gfhW"
      },
      "source": [
        "Create a list `list_example` of values 3, 5, 12, 7, 4 and 36"
      ]
    },
    {
      "cell_type": "code",
      "execution_count": null,
      "metadata": {
        "ExecuteTime": {
          "end_time": "2024-02-13T11:54:40.149682Z",
          "start_time": "2024-02-13T11:54:40.137351Z"
        },
        "id": "A-xynbVrgfhW"
      },
      "outputs": [],
      "source": [
        "list_example = [3, 5, 12, 7, 4, 36]"
      ]
    },
    {
      "cell_type": "markdown",
      "metadata": {
        "id": "dCkg6gDEoiE8"
      },
      "source": [
        "Now add the value `2` to the list."
      ]
    },
    {
      "cell_type": "code",
      "execution_count": null,
      "metadata": {
        "ExecuteTime": {
          "end_time": "2024-02-13T11:54:59.621066Z",
          "start_time": "2024-02-13T11:54:59.608877Z"
        },
        "id": "RPkbdEa0M29k",
        "colab": {
          "base_uri": "https://localhost:8080/"
        },
        "outputId": "0751d21f-20da-4a1d-931d-08620cb0536e"
      },
      "outputs": [
        {
          "output_type": "stream",
          "name": "stdout",
          "text": [
            "[3, 5, 12, 7, 4, 36]\n"
          ]
        }
      ],
      "source": [
        "print(list_example)"
      ]
    },
    {
      "cell_type": "code",
      "source": [
        "list_example.append(2)\n",
        "print(list_example)"
      ],
      "metadata": {
        "colab": {
          "base_uri": "https://localhost:8080/"
        },
        "id": "6OgIUEiEqoft",
        "outputId": "939a544e-0798-431a-eed1-bc3ec2ee62af"
      },
      "execution_count": null,
      "outputs": [
        {
          "output_type": "stream",
          "name": "stdout",
          "text": [
            "[3, 5, 12, 7, 4, 36, 2]\n"
          ]
        }
      ]
    },
    {
      "cell_type": "code",
      "source": [
        "list_example"
      ],
      "metadata": {
        "id": "lPlNJhDMsF6V",
        "outputId": "f60e9799-56e4-42a7-a788-8b5aaca626e7",
        "colab": {
          "base_uri": "https://localhost:8080/"
        }
      },
      "execution_count": null,
      "outputs": [
        {
          "output_type": "execute_result",
          "data": {
            "text/plain": [
              "[3, 5, 12, 7, 4, 36, 2]"
            ]
          },
          "metadata": {},
          "execution_count": 49
        }
      ]
    },
    {
      "cell_type": "markdown",
      "metadata": {
        "id": "9bXWlkyFXT7R"
      },
      "source": [
        "Display the length of `list_example`"
      ]
    },
    {
      "cell_type": "code",
      "execution_count": null,
      "metadata": {
        "ExecuteTime": {
          "end_time": "2024-02-13T11:55:12.268563Z",
          "start_time": "2024-02-13T11:55:12.259294Z"
        },
        "id": "bp55VoqwNWyl",
        "colab": {
          "base_uri": "https://localhost:8080/"
        },
        "outputId": "881f300d-1642-45b1-e506-8e09a2714f6b"
      },
      "outputs": [
        {
          "output_type": "execute_result",
          "data": {
            "text/plain": [
              "7"
            ]
          },
          "metadata": {},
          "execution_count": 50
        }
      ],
      "source": [
        "len(list_example)"
      ]
    },
    {
      "cell_type": "markdown",
      "metadata": {
        "id": "yCK7BoLngfhY"
      },
      "source": [
        "Display the first element of `list_example`\n"
      ]
    },
    {
      "cell_type": "code",
      "execution_count": null,
      "metadata": {
        "ExecuteTime": {
          "end_time": "2024-02-13T11:55:18.274700Z",
          "start_time": "2024-02-13T11:55:18.252449Z"
        },
        "id": "6EDt1uzPgfhZ",
        "colab": {
          "base_uri": "https://localhost:8080/"
        },
        "outputId": "be5f04b8-88dc-4848-b804-5f0151c9938e"
      },
      "outputs": [
        {
          "output_type": "execute_result",
          "data": {
            "text/plain": [
              "3"
            ]
          },
          "metadata": {},
          "execution_count": 52
        }
      ],
      "source": [
        "list_example[0]"
      ]
    },
    {
      "cell_type": "code",
      "source": [
        "list_example"
      ],
      "metadata": {
        "id": "mZgwv4uZsq3H",
        "outputId": "22ba852d-4fb5-4c59-cacd-1196f122a3e2",
        "colab": {
          "base_uri": "https://localhost:8080/"
        }
      },
      "execution_count": null,
      "outputs": [
        {
          "output_type": "execute_result",
          "data": {
            "text/plain": [
              "[3, 5, 17, 17, 17, 12, 7, 4, 36, 2]"
            ]
          },
          "metadata": {},
          "execution_count": 64
        }
      ]
    },
    {
      "cell_type": "code",
      "source": [
        "list_example = [3, 5, 12, 7, 4, 36, 2]"
      ],
      "metadata": {
        "id": "f9mYT5y2tm6T"
      },
      "execution_count": null,
      "outputs": []
    },
    {
      "cell_type": "markdown",
      "metadata": {
        "id": "6-rcsIs3gfhb"
      },
      "source": [
        "Change the third item in the list to 17 and display the modified list"
      ]
    },
    {
      "cell_type": "code",
      "source": [
        "list_example.insert(2, 17)"
      ],
      "metadata": {
        "id": "XaQd1GzOtuuc"
      },
      "execution_count": null,
      "outputs": []
    },
    {
      "cell_type": "code",
      "source": [
        "list_example"
      ],
      "metadata": {
        "id": "tZXOD64gt9ji",
        "outputId": "a42d25f7-f78a-4f35-9f76-014f199beef0",
        "colab": {
          "base_uri": "https://localhost:8080/"
        }
      },
      "execution_count": null,
      "outputs": [
        {
          "output_type": "execute_result",
          "data": {
            "text/plain": [
              "[3, 5, 17, 12, 7, 4, 36, 2]"
            ]
          },
          "metadata": {},
          "execution_count": 68
        }
      ]
    },
    {
      "cell_type": "markdown",
      "metadata": {
        "id": "seRp-HCVgfhd"
      },
      "source": [
        "With a loop, display the multiples of 4 in `list_example` one below the other.\n",
        "\n",
        "<details>\n",
        "    <summary>Hint 💡</summary>\n",
        "    \n",
        "    \n",
        "You can write the following condition `val % 4 == 0` to test if the variable `val` is a multiple of 4.\n",
        "    \n",
        "\n",
        "The `%` sign in Python refers to the [modulo](https://simple.wikipedia.org/wiki/Modulation_(mathematics)). We test if the remainder of the division of `val` by 4 is 0 or not.\n",
        "</details>"
      ]
    },
    {
      "cell_type": "code",
      "execution_count": null,
      "metadata": {
        "ExecuteTime": {
          "end_time": "2024-02-13T11:56:32.662135Z",
          "start_time": "2024-02-13T11:56:32.652163Z"
        },
        "id": "kfYeem0Dd7xf"
      },
      "outputs": [],
      "source": [
        "list_example = [12, 4, 36]"
      ]
    },
    {
      "cell_type": "code",
      "source": [
        "print(list_example[0])\n",
        "print(list_example[1])\n",
        "print(list_example[2])\n"
      ],
      "metadata": {
        "id": "jndWWEEcqdSR",
        "outputId": "1864251e-0bbc-4550-d176-703314c1c06b",
        "colab": {
          "base_uri": "https://localhost:8080/"
        }
      },
      "execution_count": null,
      "outputs": [
        {
          "output_type": "stream",
          "name": "stdout",
          "text": [
            "12\n",
            "4\n",
            "36\n"
          ]
        }
      ]
    },
    {
      "cell_type": "markdown",
      "metadata": {
        "id": "9Si0OEPDgfh4"
      },
      "source": [
        "## Dictionaries\n"
      ]
    },
    {
      "cell_type": "markdown",
      "metadata": {
        "id": "eUo9-cq6gfh5"
      },
      "source": [
        "Run the code below to initialise the dictionary."
      ]
    },
    {
      "cell_type": "code",
      "execution_count": null,
      "metadata": {
        "ExecuteTime": {
          "end_time": "2024-02-13T11:56:42.490213Z",
          "start_time": "2024-02-13T11:56:42.484167Z"
        },
        "id": "fUI43nW6gfh5"
      },
      "outputs": [],
      "source": [
        "dict_example = {\n",
        "    \"A\": \"car\",\n",
        "    \"B\": 2,\n",
        "    \"C\": \"bike\"\n",
        "}"
      ]
    },
    {
      "cell_type": "markdown",
      "metadata": {
        "id": "OYLVzSnbgfh7"
      },
      "source": [
        "Display the keys of `dict_example`\n"
      ]
    },
    {
      "cell_type": "code",
      "execution_count": null,
      "metadata": {
        "ExecuteTime": {
          "end_time": "2024-02-13T11:56:50.020353Z",
          "start_time": "2024-02-13T11:56:49.992817Z"
        },
        "id": "GPPj9rfjgfh8",
        "colab": {
          "base_uri": "https://localhost:8080/"
        },
        "outputId": "8a46c031-76c2-429d-d1e9-13ac1a1371ed"
      },
      "outputs": [
        {
          "output_type": "stream",
          "name": "stdout",
          "text": [
            "['A', 'B', 'C']\n"
          ]
        }
      ],
      "source": [
        "a = list(dict_example.keys())\n",
        "\n",
        "print(a)"
      ]
    },
    {
      "cell_type": "markdown",
      "metadata": {
        "id": "HaXlNHP2gfh-"
      },
      "source": [
        "Display the value associated to the `C` key\n",
        "\n"
      ]
    },
    {
      "cell_type": "code",
      "execution_count": null,
      "metadata": {
        "ExecuteTime": {
          "end_time": "2024-02-13T11:57:02.926446Z",
          "start_time": "2024-02-13T11:57:02.906420Z"
        },
        "id": "NzwdGO61gfh_",
        "colab": {
          "base_uri": "https://localhost:8080/"
        },
        "outputId": "7e595ab5-1fdd-4014-efcf-855d5beac6a8"
      },
      "outputs": [
        {
          "output_type": "stream",
          "name": "stdout",
          "text": [
            "dict_values(['car', 2, 'bike'])\n"
          ]
        }
      ],
      "source": [
        "print(dict_example.values())"
      ]
    },
    {
      "cell_type": "code",
      "source": [
        "print(dict_example[\"C\"])"
      ],
      "metadata": {
        "id": "_ZC5cbGuyGlq",
        "outputId": "1ff6991d-d10e-4f6e-a228-b52fd1283902",
        "colab": {
          "base_uri": "https://localhost:8080/"
        }
      },
      "execution_count": null,
      "outputs": [
        {
          "output_type": "stream",
          "name": "stdout",
          "text": [
            "bike\n"
          ]
        }
      ]
    },
    {
      "cell_type": "markdown",
      "metadata": {
        "id": "D-8UIuGLgfiB"
      },
      "source": [
        "Add a new key `D` with an associated value of `8`. Display `dict_example` to check the result.\n"
      ]
    },
    {
      "cell_type": "code",
      "execution_count": null,
      "metadata": {
        "ExecuteTime": {
          "end_time": "2024-02-13T11:57:23.404691Z",
          "start_time": "2024-02-13T11:57:23.390296Z"
        },
        "id": "bymhvLxqgfiC"
      },
      "outputs": [],
      "source": [
        "dict_example[\"D\"] = 8"
      ]
    },
    {
      "cell_type": "code",
      "source": [
        "print(dict_example)"
      ],
      "metadata": {
        "id": "Mt_ffyZIyXXV",
        "outputId": "2cb19c70-97fc-4c65-f4cd-84b710124c0a",
        "colab": {
          "base_uri": "https://localhost:8080/"
        }
      },
      "execution_count": null,
      "outputs": [
        {
          "output_type": "stream",
          "name": "stdout",
          "text": [
            "{'A': 'car', 'B': 2, 'C': 'bike', 'D': 8}\n"
          ]
        }
      ]
    }
  ],
  "metadata": {
    "colab": {
      "collapsed_sections": [
        "9HkYCn8-gfhK",
        "0uUn8_engfhV",
        "9Si0OEPDgfh4"
      ],
      "provenance": [],
      "include_colab_link": true
    },
    "kernelspec": {
      "display_name": "Python 3 (ipykernel)",
      "language": "python",
      "name": "python3"
    },
    "language_info": {
      "codemirror_mode": {
        "name": "ipython",
        "version": 3
      },
      "file_extension": ".py",
      "mimetype": "text/x-python",
      "name": "python",
      "nbconvert_exporter": "python",
      "pygments_lexer": "ipython3",
      "version": "3.10.6"
    },
    "toc": {
      "base_numbering": 1,
      "nav_menu": {},
      "number_sections": true,
      "sideBar": true,
      "skip_h1_title": false,
      "title_cell": "Table of Contents",
      "title_sidebar": "Contents",
      "toc_cell": false,
      "toc_position": {},
      "toc_section_display": true,
      "toc_window_display": false
    }
  },
  "nbformat": 4,
  "nbformat_minor": 0
}